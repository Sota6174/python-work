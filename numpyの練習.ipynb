{
  "cells": [
    {
      "cell_type": "markdown",
      "metadata": {
        "id": "Mc_YO-U8ndkB"
      },
      "source": [
        "# Numpyの確認課題"
      ]
    },
    {
      "cell_type": "markdown",
      "metadata": {
        "id": "MFLrLIOEndkC"
      },
      "source": [
        "## 必要モジュールのインポート\n",
        "\n",
        "この問題で使うモジュールをインポートします．"
      ]
    },
    {
      "cell_type": "code",
      "execution_count": 1,
      "metadata": {
        "id": "5lGlg3V_ndkD"
      },
      "outputs": [],
      "source": [
        "import matplotlib.pyplot as plt\n",
        "import numpy as np\n",
        "\n",
        "np.random.seed(0)"
      ]
    },
    {
      "cell_type": "markdown",
      "metadata": {
        "id": "4yrpvJsdndkH"
      },
      "source": [
        "### 問1. `ndarray`の生成\n",
        "\n",
        "以下の2つの`ndarray`を定義しなさい．\n",
        "- 観測値 `x`: 初項`0`，末項`5`，項数`100`の等差数列\n",
        "- ノイズ `noise`: 標準正規分布に従う`100`個の乱数"
      ]
    },
    {
      "cell_type": "code",
      "execution_count": null,
      "metadata": {
        "id": "cDR21L0UndkH"
      },
      "outputs": [],
      "source": [
        "x = np.linspace(0, 5, num=100)\n",
        "noise = np.random.standard_normal(size=100)"
      ]
    },
    {
      "cell_type": "code",
      "execution_count": null,
      "metadata": {
        "colab": {
          "base_uri": "https://localhost:8080/"
        },
        "id": "IakexdzLQWKe",
        "outputId": "6210aa75-f152-4e5b-ee0e-2904e0f85f0e"
      },
      "outputs": [
        {
          "name": "stdout",
          "output_type": "stream",
          "text": [
            "x\n",
            " [0.         0.05050505 0.1010101  0.15151515 0.2020202  0.25252525\n",
            " 0.3030303  0.35353535 0.4040404  0.45454545 0.50505051 0.55555556\n",
            " 0.60606061 0.65656566 0.70707071 0.75757576 0.80808081 0.85858586\n",
            " 0.90909091 0.95959596 1.01010101 1.06060606 1.11111111 1.16161616\n",
            " 1.21212121 1.26262626 1.31313131 1.36363636 1.41414141 1.46464646\n",
            " 1.51515152 1.56565657 1.61616162 1.66666667 1.71717172 1.76767677\n",
            " 1.81818182 1.86868687 1.91919192 1.96969697 2.02020202 2.07070707\n",
            " 2.12121212 2.17171717 2.22222222 2.27272727 2.32323232 2.37373737\n",
            " 2.42424242 2.47474747 2.52525253 2.57575758 2.62626263 2.67676768\n",
            " 2.72727273 2.77777778 2.82828283 2.87878788 2.92929293 2.97979798\n",
            " 3.03030303 3.08080808 3.13131313 3.18181818 3.23232323 3.28282828\n",
            " 3.33333333 3.38383838 3.43434343 3.48484848 3.53535354 3.58585859\n",
            " 3.63636364 3.68686869 3.73737374 3.78787879 3.83838384 3.88888889\n",
            " 3.93939394 3.98989899 4.04040404 4.09090909 4.14141414 4.19191919\n",
            " 4.24242424 4.29292929 4.34343434 4.39393939 4.44444444 4.49494949\n",
            " 4.54545455 4.5959596  4.64646465 4.6969697  4.74747475 4.7979798\n",
            " 4.84848485 4.8989899  4.94949495 5.        ]\n",
            "noise\n",
            " [ 1.76405235  0.40015721  0.97873798  2.2408932   1.86755799 -0.97727788\n",
            "  0.95008842 -0.15135721 -0.10321885  0.4105985   0.14404357  1.45427351\n",
            "  0.76103773  0.12167502  0.44386323  0.33367433  1.49407907 -0.20515826\n",
            "  0.3130677  -0.85409574 -2.55298982  0.6536186   0.8644362  -0.74216502\n",
            "  2.26975462 -1.45436567  0.04575852 -0.18718385  1.53277921  1.46935877\n",
            "  0.15494743  0.37816252 -0.88778575 -1.98079647 -0.34791215  0.15634897\n",
            "  1.23029068  1.20237985 -0.38732682 -0.30230275 -1.04855297 -1.42001794\n",
            " -1.70627019  1.9507754  -0.50965218 -0.4380743  -1.25279536  0.77749036\n",
            " -1.61389785 -0.21274028 -0.89546656  0.3869025  -0.51080514 -1.18063218\n",
            " -0.02818223  0.42833187  0.06651722  0.3024719  -0.63432209 -0.36274117\n",
            " -0.67246045 -0.35955316 -0.81314628 -1.7262826   0.17742614 -0.40178094\n",
            " -1.63019835  0.46278226 -0.90729836  0.0519454   0.72909056  0.12898291\n",
            "  1.13940068 -1.23482582  0.40234164 -0.68481009 -0.87079715 -0.57884966\n",
            " -0.31155253  0.05616534 -1.16514984  0.90082649  0.46566244 -1.53624369\n",
            "  1.48825219  1.89588918  1.17877957 -0.17992484 -1.07075262  1.05445173\n",
            " -0.40317695  1.22244507  0.20827498  0.97663904  0.3563664   0.70657317\n",
            "  0.01050002  1.78587049  0.12691209  0.40198936]\n",
            "noise.mean() =  0.059808015534485\n",
            "noise.var() =  1.0158266192149312\n"
          ]
        }
      ],
      "source": [
        "# 確認用\n",
        "print(\"x\\n\", x)\n",
        "print(\"noise\\n\", noise)\n",
        "print(\"noise.mean() = \", noise.mean())  # ほぼ0\n",
        "print(\"noise.var() = \", noise.var())    # ほぼ1"
      ]
    },
    {
      "cell_type": "markdown",
      "metadata": {
        "id": "YKcZ4UhnndkL"
      },
      "source": [
        "ここで，真の関数 $y(x) = 3 - 5x + x^2$ を定義します．"
      ]
    },
    {
      "cell_type": "code",
      "execution_count": null,
      "metadata": {
        "id": "TY7GKvWpndkL"
      },
      "outputs": [],
      "source": [
        "def y(x):\n",
        "    \"\"\"真の関数\"\"\"\n",
        "    return 3 - 5 * x + x ** 2"
      ]
    },
    {
      "cell_type": "markdown",
      "metadata": {
        "id": "vMuy5uWqndkP"
      },
      "source": [
        "### 問2． `ndarray`の操作\n",
        "\n",
        "問1で生成した観測値 `x` に対応する目標値 `t` を定義しなさい．\n",
        "\n",
        "目標値 $t$ は， $t = y(x) + \\epsilon$ と表されます．  ( $y$: 真の関数, $\\epsilon$: ノイズ )  \n",
        "実際の観測値にはどうしてもノイズ(観測誤差)が発生してしまいます．今回は，それを`noise`で再現します．\n",
        "\n",
        "問1で観測値を100個生成したので，それぞれに対応する目標値も100個作成する必要がありますが， `for` 文は絶対使ってはいけません．"
      ]
    },
    {
      "cell_type": "code",
      "execution_count": null,
      "metadata": {
        "id": "isR4RekhndkQ"
      },
      "outputs": [],
      "source": [
        "t = y(x) + noise"
      ]
    },
    {
      "cell_type": "code",
      "execution_count": null,
      "metadata": {
        "colab": {
          "base_uri": "https://localhost:8080/"
        },
        "id": "2J3qx8SATK2p",
        "outputId": "619fc106-bb9d-4fd9-ae58-0fa83249854d"
      },
      "outputs": [
        {
          "name": "stdout",
          "output_type": "stream",
          "text": [
            "[ 4.76405235  3.15018272  3.48389052  4.50627428  3.89826914  0.82386486\n",
            "  2.52676427  1.20595327  1.03982778  1.3444828   0.87386706  1.9851377\n",
            "  1.09804415  0.2699252   0.40845868  0.11971657  1.10666963 -0.76091788\n",
            " -0.40594056 -1.73125113 -3.58319082 -0.52452649 -0.45655146 -2.20089372\n",
            "  0.6783864  -3.17327191 -1.7955842  -2.14586154 -0.53813192 -0.70868429\n",
            " -2.12512604 -1.99883983 -3.35661546 -4.53635202 -2.98509203 -2.55735371\n",
            " -1.55483329 -1.64906388 -3.29998879 -3.27108145 -4.06834686 -4.48572552\n",
            " -4.81278993 -1.19145499 -3.68249169 -3.63642141 -4.47154855 -2.45656739\n",
            " -4.85815864 -3.46210259 -4.14482887 -2.85735829 -3.74486289 -4.39938537\n",
            " -3.22652934 -2.74450764 -3.07571316 -2.80404785 -3.70002967 -3.38253506\n",
            " -3.64123914 -3.27221513 -3.66459001 -4.51140657 -2.53627654 -3.03896082\n",
            " -4.1857539  -2.00604746 -3.28430071 -2.22812807 -1.44895249 -1.94192822\n",
            " -0.819277   -3.07616854 -1.31656459 -2.27617832 -2.32952585 -1.89983732\n",
            " -1.48969762 -0.97403566 -2.04230523  0.18181822 -0.09009718 -1.92365313\n",
            "  1.27429443  1.86048463  1.32702975  0.15708159 -0.53988842  1.78427521\n",
            "  0.53070735  2.3654917   1.56558546  2.55331489  2.15750914  2.73728432\n",
            "  2.2758811   4.29102303  2.8769376   3.40198936]\n"
          ]
        }
      ],
      "source": [
        "# 確認\n",
        "print(t)"
      ]
    },
    {
      "cell_type": "markdown",
      "metadata": {
        "id": "2DvrPofIndkT"
      },
      "source": [
        "matplotlib で可視化すると以下のようなグラフになります．\n",
        "scatter → 散布図"
      ]
    },
    {
      "cell_type": "code",
      "execution_count": null,
      "metadata": {
        "colab": {
          "base_uri": "https://localhost:8080/",
          "height": 283
        },
        "id": "NAZfBkUCndkT",
        "outputId": "3095566c-0395-4dd5-aea1-44cb43638f49"
      },
      "outputs": [
        {
          "data": {
            "text/plain": [
              "<matplotlib.collections.PathCollection at 0x7fd3052f6c50>"
            ]
          },
          "execution_count": 62,
          "metadata": {
            "tags": []
          },
          "output_type": "execute_result"
        },
        {
          "data": {
            "image/png": "[encoded data removed]",
            "text/plain": [
              "<Figure size 432x288 with 1 Axes>"
            ]
          },
          "metadata": {
            "needs_background": "light",
            "tags": []
          },
          "output_type": "display_data"
        }
      ],
      "source": [
        "plt.scatter(x, t)"
      ]
    },
    {
      "cell_type": "markdown",
      "metadata": {
        "id": "1w3MmMvWndkW"
      },
      "source": [
        "### 問3. `ndarray`の結合\n",
        "\n",
        "以下の3つの`ndarray`を垂直方向に結合した2次元配列を転置した行列 `X` を定義しなさい．\n",
        "\n",
        "- x0: 長さが `x` と同じで要素が全て1の`ndarray`\n",
        "- x1: 観測値 `x` の各要素を1乗した`ndarray`\n",
        "- x2: 観測値 `x` の各要素を2乗した`ndarray`\n",
        "\n",
        "例： $x = (1, 2, 3)$ のとき，\n",
        "\n",
        "$$\n",
        "x_0 = (1, 1, 1)\\\\\n",
        "x_1 = (1, 2, 3)\\\\\n",
        "x_2 = (1, 4, 9)\n",
        "$$\n",
        "\n",
        "だから，\n",
        "\n",
        "$$\n",
        "X = \\left(\n",
        "\\begin{array}{ccc}\n",
        "    1 & 1 & 1 \\\\\n",
        "    1 & 2 & 3 \\\\\n",
        "    1 & 4 & 9\n",
        "\\end{array}\n",
        "\\right)^T\n",
        "= \\left(\n",
        "\\begin{array}{ccc}\n",
        "    1 & 1 & 1 \\\\\n",
        "    1 & 2 & 4 \\\\\n",
        "    1 & 3 & 9\n",
        "\\end{array}\n",
        "\\right)\n",
        "$$\n",
        "\n",
        "ちなみに，機械学習では `X` のような行列を計画行列と呼びます．"
      ]
    },
    {
      "cell_type": "code",
      "execution_count": null,
      "metadata": {
        "colab": {
          "base_uri": "https://localhost:8080/"
        },
        "id": "QameV_-5ndkY",
        "outputId": "cc336f82-5b0d-4eed-a843-ddce488a256f"
      },
      "outputs": [
        {
          "name": "stdout",
          "output_type": "stream",
          "text": [
            "[[1 1 1]\n",
            " [1 2 4]\n",
            " [1 3 9]]\n"
          ]
        }
      ],
      "source": [
        "a = np.array((1, 2, 3))\n",
        "x0 = np.ones_like(a)\n",
        "x1 = a\n",
        "x2 = np.square(a)\n",
        "\n",
        "X = np.array([x0, x1, x2]).T\n",
        "print(X)"
      ]
    },
    {
      "cell_type": "markdown",
      "metadata": {
        "id": "WY8ThJjNndkb"
      },
      "source": [
        "### 問4. 線形代数\n",
        "\n",
        "観測値 `x, t` をもとに真の関数 `y` を2次関数で回帰しなさい．\n",
        "\n",
        "任意の2次関数は $y(x) = w_0 + w_1 x + w_2 x^2$ と表すことができます．  \n",
        "なので，パラメータのベクトル $\\mathbf{w} = (w_0, w_1, w_2)$ を求めれば良いことになります．\n",
        "\n",
        "これは以下の正規方程式から求めることができます．\n",
        "\n",
        "$ \\mathbf{w} = (X^T X)^{-1} X^T \\mathbf{t} $\n",
        "\n",
        "この式の導出はdev_data勉強会で学びます．\n",
        "\n",
        "行列の積が多い場合は`np.dot`を使わない方が簡潔に書けます．"
      ]
    },
    {
      "cell_type": "code",
      "execution_count": null,
      "metadata": {
        "colab": {
          "base_uri": "https://localhost:8080/"
        },
        "id": "P-92NgUyASSy",
        "outputId": "f51260c5-e351-4030-bb1e-398056247054"
      },
      "outputs": [
        {
          "name": "stdout",
          "output_type": "stream",
          "text": [
            "[0.         0.05050505 0.1010101  0.15151515 0.2020202  0.25252525\n",
            " 0.3030303  0.35353535 0.4040404  0.45454545 0.50505051 0.55555556\n",
            " 0.60606061 0.65656566 0.70707071 0.75757576 0.80808081 0.85858586\n",
            " 0.90909091 0.95959596 1.01010101 1.06060606 1.11111111 1.16161616\n",
            " 1.21212121 1.26262626 1.31313131 1.36363636 1.41414141 1.46464646\n",
            " 1.51515152 1.56565657 1.61616162 1.66666667 1.71717172 1.76767677\n",
            " 1.81818182 1.86868687 1.91919192 1.96969697 2.02020202 2.07070707\n",
            " 2.12121212 2.17171717 2.22222222 2.27272727 2.32323232 2.37373737\n",
            " 2.42424242 2.47474747 2.52525253 2.57575758 2.62626263 2.67676768\n",
            " 2.72727273 2.77777778 2.82828283 2.87878788 2.92929293 2.97979798\n",
            " 3.03030303 3.08080808 3.13131313 3.18181818 3.23232323 3.28282828\n",
            " 3.33333333 3.38383838 3.43434343 3.48484848 3.53535354 3.58585859\n",
            " 3.63636364 3.68686869 3.73737374 3.78787879 3.83838384 3.88888889\n",
            " 3.93939394 3.98989899 4.04040404 4.09090909 4.14141414 4.19191919\n",
            " 4.24242424 4.29292929 4.34343434 4.39393939 4.44444444 4.49494949\n",
            " 4.54545455 4.5959596  4.64646465 4.6969697  4.74747475 4.7979798\n",
            " 4.84848485 4.8989899  4.94949495 5.        ]\n",
            "[ 4.76405235  3.15018272  3.48389052  4.50627428  3.89826914  0.82386486\n",
            "  2.52676427  1.20595327  1.03982778  1.3444828   0.87386706  1.9851377\n",
            "  1.09804415  0.2699252   0.40845868  0.11971657  1.10666963 -0.76091788\n",
            " -0.40594056 -1.73125113 -3.58319082 -0.52452649 -0.45655146 -2.20089372\n",
            "  0.6783864  -3.17327191 -1.7955842  -2.14586154 -0.53813192 -0.70868429\n",
            " -2.12512604 -1.99883983 -3.35661546 -4.53635202 -2.98509203 -2.55735371\n",
            " -1.55483329 -1.64906388 -3.29998879 -3.27108145 -4.06834686 -4.48572552\n",
            " -4.81278993 -1.19145499 -3.68249169 -3.63642141 -4.47154855 -2.45656739\n",
            " -4.85815864 -3.46210259 -4.14482887 -2.85735829 -3.74486289 -4.39938537\n",
            " -3.22652934 -2.74450764 -3.07571316 -2.80404785 -3.70002967 -3.38253506\n",
            " -3.64123914 -3.27221513 -3.66459001 -4.51140657 -2.53627654 -3.03896082\n",
            " -4.1857539  -2.00604746 -3.28430071 -2.22812807 -1.44895249 -1.94192822\n",
            " -0.819277   -3.07616854 -1.31656459 -2.27617832 -2.32952585 -1.89983732\n",
            " -1.48969762 -0.97403566 -2.04230523  0.18181822 -0.09009718 -1.92365313\n",
            "  1.27429443  1.86048463  1.32702975  0.15708159 -0.53988842  1.78427521\n",
            "  0.53070735  2.3654917   1.56558546  2.55331489  2.15750914  2.73728432\n",
            "  2.2758811   4.29102303  2.8769376   3.40198936]\n"
          ]
        }
      ],
      "source": [
        "print(x)\n",
        "print(t)"
      ]
    },
    {
      "cell_type": "code",
      "execution_count": null,
      "metadata": {
        "colab": {
          "base_uri": "https://localhost:8080/"
        },
        "id": "jFu5qXG6ndkc",
        "outputId": "7dfacc78-1a8a-47fb-ae30-5680232a3ae1"
      },
      "outputs": [
        {
          "name": "stdout",
          "output_type": "stream",
          "text": [
            "[ 4.06308395 -6.09546501  1.20719993]\n",
            "(3,)\n",
            "<class 'numpy.ndarray'>\n",
            "4.063083945479582\n"
          ]
        }
      ],
      "source": [
        "'''\n",
        "t0 = (w0*1 + w1*x0 + w2*x0^2 + ,,, + wm*x0^m)の( + ,,, + wm*x0^m)の部分をノイズと考え、\n",
        "t0 = (w0*1 + w1*x0 + w2*x0^2)としてw0, w1, w2を求める\n",
        "T = (w0, w1, w2) * X\n",
        "'''\n",
        "x0 = np.ones_like(x)\n",
        "x1 = x\n",
        "x2 = np.square(x)\n",
        "X = np.array([x0, x1, x2]).T\n",
        "# print(X)\n",
        "# print(X.shape)\n",
        "tmp = np.linalg.inv(X.T @ X) @ X.T @ t\n",
        "print(tmp)\n",
        "print(tmp.shape)\n",
        "print(type(tmp))\n",
        "w0, w1, w2 = tmp\n",
        "pred_y = w0 + w1 * x + w2 * x ** 2"
      ]
    },
    {
      "cell_type": "markdown",
      "metadata": {
        "id": "Rt1W1y_lndke"
      },
      "source": [
        "---"
      ]
    },
    {
      "cell_type": "markdown",
      "metadata": {
        "id": "4MQXW4nTndkf"
      },
      "source": [
        "### 結果\n",
        "\n",
        "先ほどのグラフに真の関数(緑)と回帰曲線(赤)を重ねると以下のようになります．"
      ]
    },
    {
      "cell_type": "code",
      "execution_count": null,
      "metadata": {
        "colab": {
          "base_uri": "https://localhost:8080/",
          "height": 283
        },
        "id": "FghK_YXbndkg",
        "outputId": "e053d961-4347-43a5-bbc0-879c479063bb"
      },
      "outputs": [
        {
          "data": {
            "text/plain": [
              "<matplotlib.legend.Legend at 0x7fd3052f3150>"
            ]
          },
          "execution_count": 129,
          "metadata": {
            "tags": []
          },
          "output_type": "execute_result"
        },
        {
          "data": {
            "image/png": "[encoded data removed]",
            "text/plain": [
              "<Figure size 432x288 with 1 Axes>"
            ]
          },
          "metadata": {
            "needs_background": "light",
            "tags": []
          },
          "output_type": "display_data"
        }
      ],
      "source": [
        "plt.scatter(x, t)\n",
        "plt.plot(x, pred_y, linewidth=5, color=\"red\", label=\"pred\")\n",
        "plt.plot(x, y(x), linewidth=5, color=\"green\", label=\"true\")\n",
        "plt.legend()"
      ]
    },
    {
      "cell_type": "markdown",
      "metadata": {
        "id": "0K7FcdUyndki"
      },
      "source": [
        "今回使った手法は 真の関数 `y` の定義を変更するとその他のコードを全く変更しなくても同様に回帰することができます．\n",
        "\n",
        "例えば以下のように変更したらその関数を回帰します．\n",
        "\n",
        "```python\n",
        "def y(x):\n",
        "    \"\"\"真の関数\"\"\"\n",
        "    return 5 * np.sin(np.pi * x / 5)\n",
        "```\n",
        "dev_data勉強会で詳しくやりますが，この回帰曲線の表現力は2次までです．\n",
        "カーブが2つ以上の曲線を回帰したい場合は問3の計画行列の列数を　`x3, x4...`　のように増やせば表現力が上がります．"
      ]
    },
    {
      "cell_type": "code",
      "execution_count": null,
      "metadata": {
        "colab": {
          "base_uri": "https://localhost:8080/",
          "height": 336
        },
        "id": "2Ewa-gysndkj",
        "outputId": "b60c0e5e-e10c-4ba2-9958-8b3c01f62404"
      },
      "outputs": [
        {
          "name": "stdout",
          "output_type": "stream",
          "text": [
            "[ 0.82575377  3.0120251  -0.6142981 ]\n",
            "(3,)\n",
            "<class 'numpy.ndarray'>\n"
          ]
        },
        {
          "data": {
            "text/plain": [
              "<matplotlib.legend.Legend at 0x7fd2fc81ed50>"
            ]
          },
          "execution_count": 133,
          "metadata": {
            "tags": []
          },
          "output_type": "execute_result"
        },
        {
          "data": {
            "image/png": "[encoded data removed]",
            "text/plain": [
              "<Figure size 432x288 with 1 Axes>"
            ]
          },
          "metadata": {
            "needs_background": "light",
            "tags": []
          },
          "output_type": "display_data"
        }
      ],
      "source": [
        "def y(x):\n",
        "    \"\"\"真の関数\"\"\"\n",
        "    return 5 * np.sin(np.pi * x / 5)\n",
        "\n",
        "\n",
        "t = y(x) + noise\n",
        "\n",
        "x0 = np.ones_like(x)\n",
        "x1 = x\n",
        "x2 = np.square(x)\n",
        "X = np.array([x0, x1, x2]).T\n",
        "# print(X)\n",
        "# print(X.shape)\n",
        "tmp = np.linalg.inv(X.T @ X) @ X.T @ t\n",
        "print(tmp)\n",
        "print(tmp.shape)\n",
        "print(type(tmp))\n",
        "w0, w1, w2 = tmp\n",
        "pred_y = w0 + w1 * x + w2 * x ** 2\n",
        "\n",
        "plt.scatter(x, t)\n",
        "plt.plot(x, pred_y, linewidth=5, color=\"red\", label=\"pred\")\n",
        "plt.plot(x, y(x), linewidth=5, color=\"green\", label=\"true\")\n",
        "plt.legend()"
      ]
    }
  ],
  "metadata": {
    "colab": {
      "collapsed_sections": [],
      "name": "numpyの練習.ipynb",
      "provenance": []
    },
    "kernelspec": {
      "display_name": "Python 3",
      "language": "python",
      "name": "python3"
    },
    "language_info": {
      "codemirror_mode": {
        "name": "ipython",
        "version": 3
      },
      "file_extension": ".py",
      "mimetype": "text/x-python",
      "name": "python",
      "nbconvert_exporter": "python",
      "pygments_lexer": "ipython3",
      "version": "3.10.1"
    }
  },
  "nbformat": 4,
  "nbformat_minor": 0
}
